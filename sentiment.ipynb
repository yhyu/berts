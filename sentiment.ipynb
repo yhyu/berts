{
 "cells": [
  {
   "cell_type": "code",
   "execution_count": 1,
   "metadata": {},
   "outputs": [],
   "source": [
    "import tensorflow as tf\n",
    "import tensorflow_datasets as tfds\n",
    "\n",
    "from official.nlp import optimization as nlp_opt\n",
    "from official.nlp.bert import tokenization as bert_token\n",
    "\n",
    "from berts.berts import BertClassificationModel\n",
    "from berts.utils import get_bert_inputs"
   ]
  },
  {
   "cell_type": "code",
   "execution_count": 2,
   "metadata": {},
   "outputs": [
    {
     "name": "stdout",
     "output_type": "stream",
     "text": [
      "Model: \"functional_1\"\n",
      "__________________________________________________________________________________________________\n",
      "Layer (type)                    Output Shape         Param #     Connected to                     \n",
      "==================================================================================================\n",
      "input_words_seq (InputLayer)    [(None, None)]       0                                            \n",
      "__________________________________________________________________________________________________\n",
      "input_attention_mask (InputLaye [(None, None)]       0                                            \n",
      "__________________________________________________________________________________________________\n",
      "input_segment_mask (InputLayer) [(None, None)]       0                                            \n",
      "__________________________________________________________________________________________________\n",
      "keras_layer (KerasLayer)        [(None, 768), (None, 109482241   input_words_seq[0][0]            \n",
      "                                                                 input_attention_mask[0][0]       \n",
      "                                                                 input_segment_mask[0][0]         \n",
      "__________________________________________________________________________________________________\n",
      "dropout (Dropout)               (None, 768)          0           keras_layer[0][0]                \n",
      "__________________________________________________________________________________________________\n",
      "dense (Dense)                   (None, 1)            769         dropout[0][0]                    \n",
      "==================================================================================================\n",
      "Total params: 109,483,010\n",
      "Trainable params: 109,483,009\n",
      "Non-trainable params: 1\n",
      "__________________________________________________________________________________________________\n"
     ]
    }
   ],
   "source": [
    "bert_url = \"https://tfhub.dev/tensorflow/bert_en_uncased_L-12_H-768_A-12/2\"\n",
    "model, bert_layer = BertClassificationModel(bert_url, 2)\n",
    "model.summary()"
   ]
  },
  {
   "cell_type": "code",
   "execution_count": 3,
   "metadata": {},
   "outputs": [
    {
     "name": "stdout",
     "output_type": "stream",
     "text": [
      "vocabulary size: 30522\n"
     ]
    }
   ],
   "source": [
    "# load vocabulary (must be same as pre-trained bert)\n",
    "vocab_file = bert_layer.resolved_object.vocab_file.asset_path.numpy()\n",
    "to_lower_case = bert_layer.resolved_object.do_lower_case.numpy()\n",
    "bert_tokenizer = bert_token.FullTokenizer(vocab_file, to_lower_case)\n",
    "print('vocabulary size:', len(bert_tokenizer.vocab))"
   ]
  },
  {
   "cell_type": "code",
   "execution_count": 4,
   "metadata": {},
   "outputs": [
    {
     "name": "stdout",
     "output_type": "stream",
     "text": [
      "dict_keys(['test', 'train', 'validation'])\n",
      "FeaturesDict({\n",
      "    'idx': Tensor(shape=(), dtype=tf.int32),\n",
      "    'label': ClassLabel(shape=(), dtype=tf.int64, num_classes=2),\n",
      "    'sentence': Text(shape=(), dtype=tf.string),\n",
      "})\n"
     ]
    }
   ],
   "source": [
    "# use glue data set (sst2: Stanford Sentiment Treebank)\n",
    "glue, info = tfds.load('glue/sst2', with_info=True, batch_size=-1)\n",
    "print(glue.keys())\n",
    "print(info.features)"
   ]
  },
  {
   "cell_type": "code",
   "execution_count": 5,
   "metadata": {},
   "outputs": [
    {
     "data": {
      "text/plain": [
       "['negative', 'positive']"
      ]
     },
     "execution_count": 5,
     "metadata": {},
     "output_type": "execute_result"
    }
   ],
   "source": [
    "info.features['label'].names"
   ]
  },
  {
   "cell_type": "code",
   "execution_count": 6,
   "metadata": {},
   "outputs": [
    {
     "name": "stdout",
     "output_type": "stream",
     "text": [
      "training data shapes: (67349, 66) (67349, 66) (67349, 66) (67349,)\n",
      "validation data shapes: (872, 55) (872, 55) (872, 55) (872,)\n"
     ]
    }
   ],
   "source": [
    "train_input_words, train_input_mask, train_input_seg = get_bert_inputs(bert_tokenizer, glue['train']['sentence'])\n",
    "train_labels = glue['train']['label']\n",
    "print('training data shapes:', train_input_words.shape, train_input_mask.shape, train_input_seg.shape, train_labels.shape)\n",
    "\n",
    "valid_input_words, valid_input_mask, valid_input_seg = get_bert_inputs(bert_tokenizer, glue['validation']['sentence'])\n",
    "valid_labels = glue['validation']['label']\n",
    "print('validation data shapes:', valid_input_words.shape, valid_input_mask.shape, valid_input_seg.shape, valid_labels.shape)"
   ]
  },
  {
   "cell_type": "code",
   "execution_count": 7,
   "metadata": {},
   "outputs": [],
   "source": [
    "batch_size = 32\n",
    "epochs = 3\n",
    "train_data_size = len(train_labels)\n",
    "steps_per_epoch = int(train_data_size / batch_size)\n",
    "num_train_steps = steps_per_epoch * epochs\n",
    "warmup_steps = int(epochs * train_data_size * 0.1 / batch_size)\n",
    "\n",
    "# creates an optimizer with learning rate schedule\n",
    "optimizer = nlp_opt.create_optimizer(2e-5, num_train_steps=num_train_steps, num_warmup_steps=warmup_steps)"
   ]
  },
  {
   "cell_type": "code",
   "execution_count": 8,
   "metadata": {},
   "outputs": [],
   "source": [
    "model.compile(loss='binary_crossentropy', optimizer=optimizer, metrics='acc')"
   ]
  },
  {
   "cell_type": "code",
   "execution_count": 9,
   "metadata": {},
   "outputs": [
    {
     "name": "stdout",
     "output_type": "stream",
     "text": [
      "Epoch 1/3\n",
      "2105/2105 [==============================] - 619s 294ms/step - loss: 0.2436 - acc: 0.8936 - val_loss: 0.2105 - val_acc: 0.9174\n",
      "Epoch 2/3\n",
      "2105/2105 [==============================] - 619s 294ms/step - loss: 0.1077 - acc: 0.9629 - val_loss: 0.2507 - val_acc: 0.9197\n",
      "Epoch 3/3\n",
      "2105/2105 [==============================] - 619s 294ms/step - loss: 0.0647 - acc: 0.9779 - val_loss: 0.2433 - val_acc: 0.9243\n"
     ]
    }
   ],
   "source": [
    "history = model.fit([train_input_words, train_input_mask, train_input_seg], train_labels,\n",
    "                    validation_data=([valid_input_words, valid_input_mask, valid_input_seg], valid_labels),\n",
    "                    batch_size=batch_size, epochs=epochs)"
   ]
  },
  {
   "cell_type": "code",
   "execution_count": null,
   "metadata": {},
   "outputs": [],
   "source": []
  }
 ],
 "metadata": {
  "kernelspec": {
   "display_name": "Python 3",
   "language": "python",
   "name": "python3"
  },
  "language_info": {
   "codemirror_mode": {
    "name": "ipython",
    "version": 3
   },
   "file_extension": ".py",
   "mimetype": "text/x-python",
   "name": "python",
   "nbconvert_exporter": "python",
   "pygments_lexer": "ipython3",
   "version": "3.7.4"
  }
 },
 "nbformat": 4,
 "nbformat_minor": 2
}
